{
  "nbformat": 4,
  "nbformat_minor": 0,
  "metadata": {
    "colab": {
      "provenance": [],
      "authorship_tag": "ABX9TyM2F7h1sUWqRdrKddvPImMW",
      "include_colab_link": true
    },
    "kernelspec": {
      "name": "python3",
      "display_name": "Python 3"
    },
    "language_info": {
      "name": "python"
    }
  },
  "cells": [
    {
      "cell_type": "markdown",
      "metadata": {
        "id": "view-in-github",
        "colab_type": "text"
      },
      "source": [
        "<a href=\"https://colab.research.google.com/github/Abhimokashe/Hello-world/blob/main/Assignments.ipynb\" target=\"_parent\"><img src=\"https://colab.research.google.com/assets/colab-badge.svg\" alt=\"Open In Colab\"/></a>"
      ]
    },
    {
      "cell_type": "markdown",
      "source": [
        "**Write program to find biggest of given three numbers from command prompt.**"
      ],
      "metadata": {
        "id": "NTUhiOX4uNu8"
      }
    },
    {
      "cell_type": "code",
      "execution_count": null,
      "metadata": {
        "colab": {
          "base_uri": "https://localhost:8080/"
        },
        "id": "Zrw1INfEouaH",
        "outputId": "2cd25ed0-0440-4eb8-f116-191ecc2ae3bb"
      },
      "outputs": [
        {
          "output_type": "stream",
          "name": "stdout",
          "text": [
            "Enter first number:8\n",
            "Enter second number:9\n",
            "Enter third number:0\n",
            "b is biggest number\n"
          ]
        }
      ],
      "source": [
        "a = int(input(\"Enter first number:\"))\n",
        "b = int(input(\"Enter second number:\"))\n",
        "c = int(input(\"Enter third number:\"))\n",
        "if a>b and a>c:\n",
        "  print(\"a is biggest number\")\n",
        "if b>c:\n",
        "    print(\"b is biggest number\")\n",
        "else:\n",
        "    print(\"c is biggest number\")"
      ]
    },
    {
      "cell_type": "markdown",
      "source": [
        "**Write program for smallest of given 2 numbers.**"
      ],
      "metadata": {
        "id": "FF6KyAPGuyMc"
      }
    },
    {
      "cell_type": "code",
      "source": [
        "a = int(input(\"enter first number:\"))\n",
        "b = int(input(\"enter second number:\"))\n",
        "if a<b:\n",
        "  print(\"a is less than b\")\n",
        "else:\n",
        "  print(\"b is less than b\")"
      ],
      "metadata": {
        "colab": {
          "base_uri": "https://localhost:8080/"
        },
        "id": "GPchuEWavH7v",
        "outputId": "461b43b6-16ac-465b-f0dc-96f1f6ad73af"
      },
      "execution_count": null,
      "outputs": [
        {
          "output_type": "stream",
          "name": "stdout",
          "text": [
            "enter first number:8\n",
            "enter second number:9\n",
            "a is less than b\n"
          ]
        }
      ]
    },
    {
      "cell_type": "markdown",
      "source": [
        "**Write program for smallest of given three numbers.**"
      ],
      "metadata": {
        "id": "Ln_1ax-7wBug"
      }
    },
    {
      "cell_type": "code",
      "source": [
        "a = int(input(\"Enter first number:\"))\n",
        "b = int(input(\"Enter second number:\"))\n",
        "c = int(input(\"Enter third number:\"))\n",
        "if a<b and a<c:\n",
        "  print(\"a is smallest number\")\n",
        "if b<c:\n",
        "  print(\"b is smallest number\")\n",
        "else:\n",
        "  print(\"c is smallest number\")"
      ],
      "metadata": {
        "colab": {
          "base_uri": "https://localhost:8080/"
        },
        "id": "bQXzGAFxwTU6",
        "outputId": "4a7252ab-4737-4b18-8d1e-8468f1e00a0b"
      },
      "execution_count": null,
      "outputs": [
        {
          "output_type": "stream",
          "name": "stdout",
          "text": [
            "Enter first number:5\n",
            "Enter second number:2\n",
            "Enter third number:3\n",
            "b is smallest number\n"
          ]
        }
      ]
    },
    {
      "cell_type": "markdown",
      "source": [
        "**Write program to check whether the given number is even or odd**"
      ],
      "metadata": {
        "id": "uzNiNd2oyrkN"
      }
    },
    {
      "cell_type": "code",
      "source": [
        "a = int(input(\"Enter natural number:\"))\n",
        "if (a % 2 == 0):\n",
        "  print(\"a is even number\")\n",
        "else:\n",
        "  print(\"a is odd number\")"
      ],
      "metadata": {
        "colab": {
          "base_uri": "https://localhost:8080/"
        },
        "id": "Bz2iEWTUy8yD",
        "outputId": "ebc7d2dd-e8b4-4e65-8c2e-797178b4de52"
      },
      "execution_count": null,
      "outputs": [
        {
          "output_type": "stream",
          "name": "stdout",
          "text": [
            "Enter natural number:15\n",
            "a is odd number\n"
          ]
        }
      ]
    },
    {
      "cell_type": "code",
      "source": [
        "def fact(num):\n",
        "  result =1\n",
        "  while num>=1:\n",
        "    result =result*num\n",
        "    num =num -1\n",
        "  return result\n",
        "for i in range(1,5):\n",
        "   print(\"the factorial of\",i,\"is :\",fact(i))"
      ],
      "metadata": {
        "colab": {
          "base_uri": "https://localhost:8080/"
        },
        "id": "qno1e_L5XQBd",
        "outputId": "8374e7d3-b445-46bc-eea8-19dcda69dc59"
      },
      "execution_count": null,
      "outputs": [
        {
          "output_type": "stream",
          "name": "stdout",
          "text": [
            "the factorial of 1 is : 1\n",
            "the factorial of 2 is : 2\n",
            "the factorial of 3 is : 6\n",
            "the factorial of 4 is : 24\n"
          ]
        }
      ]
    },
    {
      "cell_type": "code",
      "source": [
        "def factorial(n):\n",
        "  if n==0:\n",
        "    return 1\n",
        "  else:\n",
        "    return factorial(n)\n"
      ],
      "metadata": {
        "id": "SgvzYsQCutdC"
      },
      "execution_count": null,
      "outputs": []
    },
    {
      "cell_type": "code",
      "source": [
        "factorial(4)"
      ],
      "metadata": {
        "colab": {
          "base_uri": "https://localhost:8080/"
        },
        "id": "NK5vwv3PvYzp",
        "outputId": "7570a750-5af6-48a1-d69c-3a6ebba05df1"
      },
      "execution_count": null,
      "outputs": [
        {
          "output_type": "execute_result",
          "data": {
            "text/plain": [
              "24"
            ]
          },
          "metadata": {},
          "execution_count": 5
        }
      ]
    },
    {
      "cell_type": "code",
      "source": [
        "def sum_sub(a,b):\n",
        "  sum = a+b\n",
        "  sub = a-b\n",
        "  return sum,sub\n",
        "  "
      ],
      "metadata": {
        "id": "qBPZAzjj1k6D"
      },
      "execution_count": null,
      "outputs": []
    },
    {
      "cell_type": "code",
      "source": [
        "sum_sub(100,50)"
      ],
      "metadata": {
        "colab": {
          "base_uri": "https://localhost:8080/"
        },
        "id": "tuQ9b0152zsL",
        "outputId": "0c33a28f-400f-42b6-a7b0-5e67092c7d50"
      },
      "execution_count": null,
      "outputs": [
        {
          "output_type": "execute_result",
          "data": {
            "text/plain": [
              "(150, 50)"
            ]
          },
          "metadata": {},
          "execution_count": 5
        }
      ]
    },
    {
      "cell_type": "code",
      "source": [
        "x,y = sum_sub(100,50)         # This is positional argument.\n",
        "print(\"The sum of a,b is:\",x)\n",
        "print(\"The sub of a,b is: \",y)"
      ],
      "metadata": {
        "colab": {
          "base_uri": "https://localhost:8080/"
        },
        "id": "AoyvDkHT1_t3",
        "outputId": "c9830d53-0df2-4e13-9fb1-5235226b8cfd"
      },
      "execution_count": null,
      "outputs": [
        {
          "output_type": "stream",
          "name": "stdout",
          "text": [
            "The sum of a,b is: 150\n",
            "The sub of a,b is:  50\n"
          ]
        }
      ]
    },
    {
      "cell_type": "code",
      "source": [
        "def sum(a,b):\n",
        "  print(a+b)"
      ],
      "metadata": {
        "id": "_YB_qstz6A-d"
      },
      "execution_count": null,
      "outputs": []
    },
    {
      "cell_type": "code",
      "source": [
        "sum(10,15)"
      ],
      "metadata": {
        "colab": {
          "base_uri": "https://localhost:8080/"
        },
        "id": "GsPaNMaq6ev4",
        "outputId": "aeebeaa9-b08c-4cd7-a4fd-08f5fab15fef"
      },
      "execution_count": null,
      "outputs": [
        {
          "output_type": "stream",
          "name": "stdout",
          "text": [
            "25\n"
          ]
        }
      ]
    },
    {
      "cell_type": "code",
      "source": [
        "def abhi(name,msg):           # This is keyword argument\n",
        "  print(\"Hello\",name,msg)"
      ],
      "metadata": {
        "id": "VF5cHgkh66ju"
      },
      "execution_count": null,
      "outputs": []
    },
    {
      "cell_type": "code",
      "source": [
        "abhi(msg =\"Good morning\",name = \"Abhim\")"
      ],
      "metadata": {
        "colab": {
          "base_uri": "https://localhost:8080/"
        },
        "id": "BtdBUPha7uiV",
        "outputId": "02a0c230-e4dc-4d18-dd0c-3d8f4a9fa87b"
      },
      "execution_count": null,
      "outputs": [
        {
          "output_type": "stream",
          "name": "stdout",
          "text": [
            "Hello Abhim Good morning\n"
          ]
        }
      ]
    },
    {
      "cell_type": "code",
      "source": [
        "def wish(name =\"Guest\"):\n",
        "  print(\"Hello\",name,\"Good Morning\")"
      ],
      "metadata": {
        "id": "EZ7XMXG19D7H"
      },
      "execution_count": null,
      "outputs": []
    },
    {
      "cell_type": "code",
      "source": [
        "wish(name=\"Satish\")"
      ],
      "metadata": {
        "colab": {
          "base_uri": "https://localhost:8080/"
        },
        "id": "1b2jNJVG9js4",
        "outputId": "f11f6c39-54dd-42a0-b033-7f9cad1cd5a9"
      },
      "execution_count": null,
      "outputs": [
        {
          "output_type": "stream",
          "name": "stdout",
          "text": [
            "Hello Satish Good Morning\n"
          ]
        }
      ]
    },
    {
      "cell_type": "code",
      "source": [
        "wish()                           #  This is default argument"
      ],
      "metadata": {
        "colab": {
          "base_uri": "https://localhost:8080/"
        },
        "id": "z9E8okbt93xm",
        "outputId": "c7d43079-ca45-47fe-dc83-31111f3a7684"
      },
      "execution_count": null,
      "outputs": [
        {
          "output_type": "stream",
          "name": "stdout",
          "text": [
            "Hello Guest Good Morning\n"
          ]
        }
      ]
    },
    {
      "cell_type": "code",
      "source": [
        "def add(*s):                     # This is variable length argument in which we give number of arguments which are stored in tuple.\n",
        "  total =0\n",
        "  for s1 in s:\n",
        "      total = total + s1\n",
        "  print(total)"
      ],
      "metadata": {
        "id": "tkA8T1UqDcZ6"
      },
      "execution_count": null,
      "outputs": []
    },
    {
      "cell_type": "code",
      "source": [
        "add(0)"
      ],
      "metadata": {
        "colab": {
          "base_uri": "https://localhost:8080/"
        },
        "id": "0ZOm6LAtFXyl",
        "outputId": "7f1b31db-66b2-4b11-8639-34711d526f0d"
      },
      "execution_count": null,
      "outputs": [
        {
          "output_type": "stream",
          "name": "stdout",
          "text": [
            "0\n"
          ]
        }
      ]
    },
    {
      "cell_type": "code",
      "source": [
        "add(10)"
      ],
      "metadata": {
        "colab": {
          "base_uri": "https://localhost:8080/"
        },
        "id": "RYnLXeeFFdq1",
        "outputId": "9a7a37a9-8781-45cc-aaa1-c30dcf47aa49"
      },
      "execution_count": null,
      "outputs": [
        {
          "output_type": "stream",
          "name": "stdout",
          "text": [
            "10\n",
            "10\n"
          ]
        }
      ]
    },
    {
      "cell_type": "code",
      "source": [
        "add(10,20,30,40)"
      ],
      "metadata": {
        "colab": {
          "base_uri": "https://localhost:8080/"
        },
        "id": "ZSIuNSjXFiWB",
        "outputId": "25ecc960-43c5-413f-f5fd-4470cd9eac87"
      },
      "execution_count": null,
      "outputs": [
        {
          "output_type": "stream",
          "name": "stdout",
          "text": [
            "100\n"
          ]
        }
      ]
    },
    {
      "cell_type": "code",
      "source": [
        "def sum(n1,*n):      # This is example of variable length argument mixed positional argument.\n",
        "  print(n1)          # In this type we don't have to explicitly mention value of n1 in calling. It takes.  \n",
        "  for i in n:\n",
        "    print(i)"
      ],
      "metadata": {
        "id": "YMTGkLYKGEeq"
      },
      "execution_count": null,
      "outputs": []
    },
    {
      "cell_type": "code",
      "source": [
        "sum(10,20,50,40,70)"
      ],
      "metadata": {
        "colab": {
          "base_uri": "https://localhost:8080/"
        },
        "id": "Ii1xllzmGjxi",
        "outputId": "01e504b4-9fe2-4ce1-fc5b-d29fd1e50382"
      },
      "execution_count": null,
      "outputs": [
        {
          "output_type": "stream",
          "name": "stdout",
          "text": [
            "10\n",
            "20\n",
            "50\n",
            "40\n",
            "70\n"
          ]
        }
      ]
    },
    {
      "cell_type": "code",
      "source": [
        "def sub_key(n1,*n):\n",
        "  print(n1)\n",
        "  for i in n:\n",
        "    print(i,end=\" \")"
      ],
      "metadata": {
        "id": "LHT25oLEHf7Z"
      },
      "execution_count": null,
      "outputs": []
    },
    {
      "cell_type": "code",
      "source": [
        "sub_key(10,\"a\",20,\"c\",50,\"z\")"
      ],
      "metadata": {
        "colab": {
          "base_uri": "https://localhost:8080/"
        },
        "id": "Nphky1DZIC9M",
        "outputId": "238eb0f2-a348-4d88-85d0-62488de633eb"
      },
      "execution_count": null,
      "outputs": [
        {
          "output_type": "stream",
          "name": "stdout",
          "text": [
            "10\n",
            "a 20 c 50 z "
          ]
        }
      ]
    },
    {
      "cell_type": "code",
      "source": [
        "def mention(*n,n1):    # If we use variable length argument (*n) first and then positional argument(n1).\n",
        "  print(n1)            # We have to explicitly mention value of n1 in method calling.\n",
        "  for i in n:\n",
        "    print(i,end=\" \")\n",
        "    "
      ],
      "metadata": {
        "id": "9dvQcqDLIjzk"
      },
      "execution_count": null,
      "outputs": []
    },
    {
      "cell_type": "code",
      "source": [
        "mention(10,20,30,n1=40)  #We have explicitly mention value of n1 last we can not mention anywhere we have to mention at last."
      ],
      "metadata": {
        "colab": {
          "base_uri": "https://localhost:8080/"
        },
        "id": "Z_xS8xcpJF2k",
        "outputId": "90880336-ff22-4d02-ed71-f1fb6a0aabab"
      },
      "execution_count": null,
      "outputs": [
        {
          "output_type": "stream",
          "name": "stdout",
          "text": [
            "40\n",
            "10 20 30 "
          ]
        }
      ]
    },
    {
      "cell_type": "code",
      "source": [
        "def display(**kwargs):      # call this function by passing any no. of keyword arguments\n",
        "  for k,v in kwargs.items():\n",
        "    print(k,\"=\",v)"
      ],
      "metadata": {
        "id": "htMbVWCEWVbN"
      },
      "execution_count": null,
      "outputs": []
    },
    {
      "cell_type": "code",
      "source": [
        "display(n1=10,n2=20,n3=40)   # Internally these keywords will be stored inside dictionary."
      ],
      "metadata": {
        "colab": {
          "base_uri": "https://localhost:8080/"
        },
        "id": "dTAJFEPDW5Um",
        "outputId": "04e7e6d7-50d3-4cb3-801d-6babedce7b41"
      },
      "execution_count": null,
      "outputs": [
        {
          "output_type": "stream",
          "name": "stdout",
          "text": [
            "n1 = 10\n",
            "n2 = 20\n",
            "n3 = 40\n"
          ]
        }
      ]
    },
    {
      "cell_type": "code",
      "source": [
        "display(rno=100,name=\"vinayak\",marks=70,subject=\"java\")"
      ],
      "metadata": {
        "colab": {
          "base_uri": "https://localhost:8080/"
        },
        "id": "PE1Xb2ChXRC9",
        "outputId": "336d916b-4246-440d-ed7b-6117cf864a75"
      },
      "execution_count": null,
      "outputs": [
        {
          "output_type": "stream",
          "name": "stdout",
          "text": [
            "rno = 100\n",
            "name = vinayak\n",
            "marks = 70\n",
            "subject = java\n"
          ]
        }
      ]
    },
    {
      "cell_type": "code",
      "source": [
        "def fact(x):                    # Recursion of function fact(x)\n",
        "  result =1\n",
        "  while (x>=1):\n",
        "      result = result*x\n",
        "      x =x-1\n",
        "  return result"
      ],
      "metadata": {
        "id": "Y2YoZ2H7he1U"
      },
      "execution_count": null,
      "outputs": []
    },
    {
      "cell_type": "code",
      "source": [
        "for i in range(1,5):\n",
        "  print(\"The factorial of\",i,\"is: \",fact(i))"
      ],
      "metadata": {
        "colab": {
          "base_uri": "https://localhost:8080/"
        },
        "id": "-pju7Qvgjryd",
        "outputId": "4796e38d-f00a-40da-b3c4-122794659b4a"
      },
      "execution_count": null,
      "outputs": [
        {
          "output_type": "stream",
          "name": "stdout",
          "text": [
            "The factorial of 1 is:  1\n",
            "The factorial of 2 is:  2\n",
            "The factorial of 3 is:  6\n",
            "The factorial of 4 is:  24\n"
          ]
        }
      ]
    },
    {
      "cell_type": "code",
      "source": [
        "def sum(*num,x):\n",
        "  total =0\n",
        "  "
      ],
      "metadata": {
        "id": "W0kG5ioVCZ9M"
      },
      "execution_count": null,
      "outputs": []
    },
    {
      "cell_type": "code",
      "source": [
        "display(n1=10,n2=20,n3=30)"
      ],
      "metadata": {
        "id": "RH-CVE7ADbfQ"
      },
      "execution_count": null,
      "outputs": []
    },
    {
      "cell_type": "code",
      "source": [
        "n = int(input(\"Enternumber: \"))\n",
        "i=1\n",
        "sum=0\n",
        "while i<=n:\n",
        "  sum =sum + i\n",
        "  i=i+1\n",
        "  continue\n",
        "print(\"The sum of first\",n,\"numbers is:\",sum)"
      ],
      "metadata": {
        "colab": {
          "base_uri": "https://localhost:8080/"
        },
        "id": "5X9o-zCOzLsK",
        "outputId": "3370381b-d307-455e-a9e6-bb2ba15fbb1c"
      },
      "execution_count": null,
      "outputs": [
        {
          "output_type": "stream",
          "name": "stdout",
          "text": [
            "Enternumber: 4\n",
            "The sum of first 4 numbers is: 10\n"
          ]
        }
      ]
    },
    {
      "cell_type": "code",
      "source": [
        "s = lambda a,b,c:a if a>b and a>c else b if b>c else c\n",
        "print(\"Biggest number is: \",s(3,5,9))"
      ],
      "metadata": {
        "colab": {
          "base_uri": "https://localhost:8080/"
        },
        "id": "7MnVa53qSbqf",
        "outputId": "4001acf9-aa24-4978-e5eb-64eb02b43f58"
      },
      "execution_count": null,
      "outputs": [
        {
          "output_type": "stream",
          "name": "stdout",
          "text": [
            "Biggest number is:  9\n"
          ]
        }
      ]
    },
    {
      "cell_type": "code",
      "source": [
        "def iseven(x):\n",
        "  if x%2==0:\n",
        "    return True\n",
        "  else:\n",
        "    return False\n",
        "l =[0,5,10,15,20,25]\n",
        "l1 =list(filter(iseven,l))\n",
        "print(l1)"
      ],
      "metadata": {
        "colab": {
          "base_uri": "https://localhost:8080/"
        },
        "id": "qmgdnXsSid3S",
        "outputId": "ba5c8c6c-08a7-4708-96c9-9380c752ad04"
      },
      "execution_count": null,
      "outputs": [
        {
          "output_type": "stream",
          "name": "stdout",
          "text": [
            "[0, 10, 20]\n"
          ]
        }
      ]
    },
    {
      "cell_type": "code",
      "source": [
        "l =[0,5,10,15,20,25]\n",
        "l1 =list(filter(lambda s:s%2==0,l))    #filter function syntax= filter(function,sequence) and syntax of lambda function =lambda argument:expression\n",
        "print(l1)\n",
        "l2 =list(filter(lambda s:s%2!=0,l))\n",
        "print(l2)"
      ],
      "metadata": {
        "colab": {
          "base_uri": "https://localhost:8080/"
        },
        "id": "Y9Ealql6kNqj",
        "outputId": "1c961c56-774a-4393-901f-0672525e0803"
      },
      "execution_count": null,
      "outputs": [
        {
          "output_type": "stream",
          "name": "stdout",
          "text": [
            "[0, 10, 20]\n",
            "[5, 15, 25]\n"
          ]
        }
      ]
    },
    {
      "cell_type": "code",
      "source": [
        "l = [1,2,3,4,5,6]\n",
        "def doubleit(x):\n",
        "  return 2*x\n",
        "l1 =list(map(doubleit,l))\n",
        "print(l1)"
      ],
      "metadata": {
        "colab": {
          "base_uri": "https://localhost:8080/"
        },
        "id": "grJ1a5xVo0ak",
        "outputId": "6b837f50-4258-434f-82b9-091442b58104"
      },
      "execution_count": null,
      "outputs": [
        {
          "output_type": "stream",
          "name": "stdout",
          "text": [
            "[2, 4, 6, 8, 10, 12]\n"
          ]
        }
      ]
    },
    {
      "cell_type": "code",
      "source": [
        "l = [1,2,3,4,5,6,7]\n",
        "l1 =list(map(lambda x:2*x,l))\n",
        "print(l1)"
      ],
      "metadata": {
        "colab": {
          "base_uri": "https://localhost:8080/"
        },
        "id": "509aElmfsuqK",
        "outputId": "02414aa7-81b3-48e4-d723-13f56b7cb626"
      },
      "execution_count": null,
      "outputs": [
        {
          "output_type": "stream",
          "name": "stdout",
          "text": [
            "[2, 4, 6, 8, 10, 12, 14]\n"
          ]
        }
      ]
    },
    {
      "cell_type": "code",
      "source": [
        "l = [1004,5,987,5674]\n",
        "def squareit(x):\n",
        "    return x*x\n",
        "l1= list(map(squareit,l))\n",
        "print(l1)"
      ],
      "metadata": {
        "colab": {
          "base_uri": "https://localhost:8080/"
        },
        "id": "ypkBUfmHtO8X",
        "outputId": "a763bff3-2384-45fb-9215-a239b68db593"
      },
      "execution_count": null,
      "outputs": [
        {
          "output_type": "stream",
          "name": "stdout",
          "text": [
            "[1008016, 25, 974169, 32194276]\n"
          ]
        }
      ]
    },
    {
      "cell_type": "code",
      "source": [
        "l=[1004,5,987,5674]\n",
        "l1 = list(map(lambda x:x*x,l))\n",
        "print(l1)"
      ],
      "metadata": {
        "colab": {
          "base_uri": "https://localhost:8080/"
        },
        "id": "_X3vEaIwwAE-",
        "outputId": "01a856cb-878e-42fa-e347-f31203438955"
      },
      "execution_count": null,
      "outputs": [
        {
          "output_type": "stream",
          "name": "stdout",
          "text": [
            "[1008016, 25, 974169, 32194276]\n"
          ]
        }
      ]
    },
    {
      "cell_type": "code",
      "source": [
        "from functools import*\n",
        "l =[10,20,30,40,50]\n",
        "result =reduce(lambda x,y:x+y,l)\n",
        "print(result)"
      ],
      "metadata": {
        "colab": {
          "base_uri": "https://localhost:8080/"
        },
        "id": "pf35lZqiwxM6",
        "outputId": "6029ead0-3701-4ebe-bb31-5d48d9956bd5"
      },
      "execution_count": null,
      "outputs": [
        {
          "output_type": "stream",
          "name": "stdout",
          "text": [
            "150\n"
          ]
        }
      ]
    },
    {
      "cell_type": "code",
      "source": [
        "result= reduce(lambda x,y:x*y,l)\n",
        "print(result)"
      ],
      "metadata": {
        "colab": {
          "base_uri": "https://localhost:8080/"
        },
        "id": "nyzbmA0sywWq",
        "outputId": "2b76d3e1-cd18-43a6-9e6c-4af772399ca2"
      },
      "execution_count": null,
      "outputs": [
        {
          "output_type": "stream",
          "name": "stdout",
          "text": [
            "12000000\n"
          ]
        }
      ]
    },
    {
      "cell_type": "code",
      "source": [
        "import re\n",
        "s = \"GeeksforGeeks: A computer science portal for geeks\"\n",
        "match = re.search(r'science',s)\n",
        "print(\"starts index: \",match.start())\n",
        "print(\"Ends index: \",match.end())"
      ],
      "metadata": {
        "colab": {
          "base_uri": "https://localhost:8080/"
        },
        "id": "RNuTvZiQv_dF",
        "outputId": "ebad297b-3357-4e93-c10e-e8578ad2002f"
      },
      "execution_count": null,
      "outputs": [
        {
          "output_type": "stream",
          "name": "stdout",
          "text": [
            "starts index:  26\n",
            "Ends index:  33\n"
          ]
        }
      ]
    }
  ]
}